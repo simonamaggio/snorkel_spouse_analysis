{
 "cells": [
  {
   "cell_type": "markdown",
   "metadata": {},
   "source": [
    "# Importance of abstaining in the spouse problem"
   ]
  },
  {
   "cell_type": "markdown",
   "metadata": {
    "lines_to_next_cell": 0
   },
   "source": [
    "Here Snorkel is used for Information Extraction. \n",
    "<img src=\"imgs/sentence.jpg\" width=\"700px;\" onerror=\"this.onerror=null; this.src='/doks-theme/assets/images/sentence.jpg';\" align=\"center\" style=\"display: block; margin-left: auto; margin-right: auto;\">\n",
    "\n",
    "We want to classify each __candidate__ or pair of people mentioned in a sentence, as being married at some point or not.\n",
    "\n",
    "In the above example, our candidate represents the possible relation `(Barack Obama, Michelle Obama)`. As readers, we know this mention is true due to external knowledge and the keyword of `wedding` occuring later in the sentence."
   ]
  },
  {
   "cell_type": "code",
   "execution_count": 122,
   "metadata": {
    "tags": [
     "md-exclude"
    ]
   },
   "outputs": [],
   "source": [
    "%matplotlib inline\n",
    "\n",
    "import numpy as np\n",
    "import pandas as pd\n",
    "import random\n",
    "from snorkel.labeling import LabelModel\n",
    "from snorkel.analysis import metric_score\n",
    "from snorkel.utils import probs_to_preds\n",
    "from matplotlib import pyplot as plt\n",
    "from tqdm import tqdm"
   ]
  },
  {
   "cell_type": "markdown",
   "metadata": {},
   "source": [
    "Load pre-extracted label matrices on the training and dev set. The labeling functions applied to the datasets are called LFs."
   ]
  },
  {
   "cell_type": "code",
   "execution_count": 2,
   "metadata": {},
   "outputs": [],
   "source": [
    "Y_dev = np.load(\"spouse_y_dev.npy\")\n",
    "L_dev = np.load(\"spouse_l_dev.npy\")\n",
    "L_train = np.load(\"spouse_l_train.npy\")"
   ]
  },
  {
   "cell_type": "markdown",
   "metadata": {},
   "source": [
    "Load information about LFs"
   ]
  },
  {
   "cell_type": "code",
   "execution_count": 120,
   "metadata": {},
   "outputs": [
    {
     "data": {
      "text/html": [
       "<div>\n",
       "<style scoped>\n",
       "    .dataframe tbody tr th:only-of-type {\n",
       "        vertical-align: middle;\n",
       "    }\n",
       "\n",
       "    .dataframe tbody tr th {\n",
       "        vertical-align: top;\n",
       "    }\n",
       "\n",
       "    .dataframe thead th {\n",
       "        text-align: right;\n",
       "    }\n",
       "</style>\n",
       "<table border=\"1\" class=\"dataframe\">\n",
       "  <thead>\n",
       "    <tr style=\"text-align: right;\">\n",
       "      <th></th>\n",
       "      <th>Unnamed: 0</th>\n",
       "      <th>j</th>\n",
       "      <th>Polarity</th>\n",
       "      <th>Coverage</th>\n",
       "      <th>Overlaps</th>\n",
       "      <th>Conflicts</th>\n",
       "      <th>Correct</th>\n",
       "      <th>Incorrect</th>\n",
       "      <th>Emp. Acc.</th>\n",
       "    </tr>\n",
       "  </thead>\n",
       "  <tbody>\n",
       "    <tr>\n",
       "      <th>0</th>\n",
       "      <td>lf_husband_wife</td>\n",
       "      <td>0</td>\n",
       "      <td>[1]</td>\n",
       "      <td>0.089648</td>\n",
       "      <td>0.036642</td>\n",
       "      <td>0.017432</td>\n",
       "      <td>93</td>\n",
       "      <td>159</td>\n",
       "      <td>0.369048</td>\n",
       "    </tr>\n",
       "    <tr>\n",
       "      <th>1</th>\n",
       "      <td>lf_husband_wife_left_window</td>\n",
       "      <td>1</td>\n",
       "      <td>[1]</td>\n",
       "      <td>0.025258</td>\n",
       "      <td>0.021345</td>\n",
       "      <td>0.003557</td>\n",
       "      <td>30</td>\n",
       "      <td>41</td>\n",
       "      <td>0.422535</td>\n",
       "    </tr>\n",
       "    <tr>\n",
       "      <th>2</th>\n",
       "      <td>lf_same_last_name</td>\n",
       "      <td>2</td>\n",
       "      <td>[1]</td>\n",
       "      <td>0.040555</td>\n",
       "      <td>0.016009</td>\n",
       "      <td>0.008538</td>\n",
       "      <td>19</td>\n",
       "      <td>95</td>\n",
       "      <td>0.166667</td>\n",
       "    </tr>\n",
       "    <tr>\n",
       "      <th>3</th>\n",
       "      <td>lf_married</td>\n",
       "      <td>3</td>\n",
       "      <td>[1]</td>\n",
       "      <td>0.019210</td>\n",
       "      <td>0.006759</td>\n",
       "      <td>0.002490</td>\n",
       "      <td>22</td>\n",
       "      <td>32</td>\n",
       "      <td>0.407407</td>\n",
       "    </tr>\n",
       "    <tr>\n",
       "      <th>4</th>\n",
       "      <td>lf_familial_relationship</td>\n",
       "      <td>4</td>\n",
       "      <td>[0]</td>\n",
       "      <td>0.115617</td>\n",
       "      <td>0.051939</td>\n",
       "      <td>0.026325</td>\n",
       "      <td>310</td>\n",
       "      <td>15</td>\n",
       "      <td>0.953846</td>\n",
       "    </tr>\n",
       "    <tr>\n",
       "      <th>5</th>\n",
       "      <td>lf_family_left_window</td>\n",
       "      <td>5</td>\n",
       "      <td>[0]</td>\n",
       "      <td>0.041266</td>\n",
       "      <td>0.033440</td>\n",
       "      <td>0.007826</td>\n",
       "      <td>114</td>\n",
       "      <td>2</td>\n",
       "      <td>0.982759</td>\n",
       "    </tr>\n",
       "    <tr>\n",
       "      <th>6</th>\n",
       "      <td>lf_other_relationship</td>\n",
       "      <td>6</td>\n",
       "      <td>[0]</td>\n",
       "      <td>0.013874</td>\n",
       "      <td>0.002846</td>\n",
       "      <td>0.002846</td>\n",
       "      <td>33</td>\n",
       "      <td>6</td>\n",
       "      <td>0.846154</td>\n",
       "    </tr>\n",
       "    <tr>\n",
       "      <th>7</th>\n",
       "      <td>lf_distant_supervision</td>\n",
       "      <td>7</td>\n",
       "      <td>[1]</td>\n",
       "      <td>0.001067</td>\n",
       "      <td>0.001067</td>\n",
       "      <td>0.000000</td>\n",
       "      <td>2</td>\n",
       "      <td>1</td>\n",
       "      <td>0.666667</td>\n",
       "    </tr>\n",
       "    <tr>\n",
       "      <th>8</th>\n",
       "      <td>lf_distant_supervision_last_names</td>\n",
       "      <td>8</td>\n",
       "      <td>[1]</td>\n",
       "      <td>0.001067</td>\n",
       "      <td>0.000711</td>\n",
       "      <td>0.000356</td>\n",
       "      <td>0</td>\n",
       "      <td>3</td>\n",
       "      <td>0.000000</td>\n",
       "    </tr>\n",
       "  </tbody>\n",
       "</table>\n",
       "</div>"
      ],
      "text/plain": [
       "                          Unnamed: 0  j Polarity  Coverage  Overlaps  \\\n",
       "0                    lf_husband_wife  0      [1]  0.089648  0.036642   \n",
       "1        lf_husband_wife_left_window  1      [1]  0.025258  0.021345   \n",
       "2                  lf_same_last_name  2      [1]  0.040555  0.016009   \n",
       "3                         lf_married  3      [1]  0.019210  0.006759   \n",
       "4           lf_familial_relationship  4      [0]  0.115617  0.051939   \n",
       "5              lf_family_left_window  5      [0]  0.041266  0.033440   \n",
       "6              lf_other_relationship  6      [0]  0.013874  0.002846   \n",
       "7             lf_distant_supervision  7      [1]  0.001067  0.001067   \n",
       "8  lf_distant_supervision_last_names  8      [1]  0.001067  0.000711   \n",
       "\n",
       "   Conflicts  Correct  Incorrect  Emp. Acc.  \n",
       "0   0.017432       93        159   0.369048  \n",
       "1   0.003557       30         41   0.422535  \n",
       "2   0.008538       19         95   0.166667  \n",
       "3   0.002490       22         32   0.407407  \n",
       "4   0.026325      310         15   0.953846  \n",
       "5   0.007826      114          2   0.982759  \n",
       "6   0.002846       33          6   0.846154  \n",
       "7   0.000000        2          1   0.666667  \n",
       "8   0.000356        0          3   0.000000  "
      ]
     },
     "execution_count": 120,
     "metadata": {},
     "output_type": "execute_result"
    }
   ],
   "source": [
    "lf_summary = pd.read_csv(\"spouse_lf_summary.csv\")\n",
    "lf_summary"
   ]
  },
  {
   "cell_type": "code",
   "execution_count": 6,
   "metadata": {},
   "outputs": [],
   "source": [
    "lf_names = list(lf_summary[lf_summary.columns[0]])"
   ]
  },
  {
   "cell_type": "markdown",
   "metadata": {},
   "source": [
    "### On how many samples all LFs abstain in the training and dev set?"
   ]
  },
  {
   "cell_type": "code",
   "execution_count": 30,
   "metadata": {},
   "outputs": [],
   "source": [
    "def any_non_abstain(a):\n",
    "    return np.any(a!=-1)\n",
    "def all_abstain(a):\n",
    "    return np.all(a==-1)"
   ]
  },
  {
   "cell_type": "code",
   "execution_count": 130,
   "metadata": {},
   "outputs": [],
   "source": [
    "def print_performances(Y, probs, preds):\n",
    "    print(\n",
    "        f\"F1: {metric_score(Y, preds=preds, metric='f1'):.3f}\"\n",
    "    )\n",
    "    print(\n",
    "        f\"ROC-AUC: {metric_score(Y, probs=probs, metric='roc_auc'):.3f}\"\n",
    "    )"
   ]
  },
  {
   "cell_type": "code",
   "execution_count": 227,
   "metadata": {},
   "outputs": [
    {
     "name": "stdout",
     "output_type": "stream",
     "text": [
      "At least one LF does not abstain for 715/2811 samples in the dev set\n",
      "Thus there are 2096 all-LF-abstaining samples in the dev set\n"
     ]
    }
   ],
   "source": [
    "non_abstain_dev = np.apply_along_axis(any_non_abstain, 1, L_dev)\n",
    "n_non_abstain_dev = np.count_nonzero(non_abstain_dev)\n",
    "abstain_dev = ~non_abstain_dev\n",
    "n_abstain_dev = np.count_nonzero(abstain_dev)\n",
    "n_dev = L_dev.shape[0]\n",
    "print(f\"At least one LF does not abstain for {n_non_abstain_dev}/{n_dev} samples in the dev set\")\n",
    "print(f\"Thus there are {n_abstain_dev} all-LF-abstaining samples in the dev set\")"
   ]
  },
  {
   "cell_type": "code",
   "execution_count": 131,
   "metadata": {},
   "outputs": [
    {
     "name": "stdout",
     "output_type": "stream",
     "text": [
      "Prior negative probability: 0.932\n",
      "Prior positive probability: 0.068\n"
     ]
    }
   ],
   "source": [
    "n_dev = Y_dev.shape[0]\n",
    "n_neg_dev = np.count_nonzero(Y_dev==0)\n",
    "n_pos_neg = n_dev-n_neg_dev\n",
    "prior_neg = n_neg_dev/n_dev\n",
    "prior_pos = n_pos_neg/n_dev\n",
    "print(f\"Prior negative probability: {prior_neg:0.3f}\")\n",
    "print(f\"Prior positive probability: {prior_pos:0.3f}\")"
   ]
  },
  {
   "cell_type": "code",
   "execution_count": 228,
   "metadata": {},
   "outputs": [
    {
     "name": "stdout",
     "output_type": "stream",
     "text": [
      "At least one LF does not abstain for 5734/22254 samples in the training set\n",
      "Thus there are 16520 all-LF-abstaining samples in the training set\n"
     ]
    }
   ],
   "source": [
    "non_abstain_train = np.apply_along_axis(any_non_abstain, 1, L_train)\n",
    "n_non_abstain_train = np.count_nonzero(non_abstain_train)\n",
    "abstain_train = ~non_abstain_train\n",
    "n_abstain_train = np.count_nonzero(abstain_train)\n",
    "n_train = L_train.shape[0]\n",
    "print(f\"At least one LF does not abstain for {n_non_abstain_train}/{n_train} samples in the training set\")\n",
    "print(f\"Thus there are {n_abstain_train} all-LF-abstaining samples in the training set\")"
   ]
  },
  {
   "cell_type": "markdown",
   "metadata": {},
   "source": [
    "### Training the Label Model with increasing number of all-LF-abstaining samples"
   ]
  },
  {
   "cell_type": "markdown",
   "metadata": {},
   "source": [
    "Start with the training set without all-LF-abstaining samples (the same used in the end Discriminant Model), then add more and more all-LF-abstaining samples."
   ]
  },
  {
   "cell_type": "code",
   "execution_count": 20,
   "metadata": {},
   "outputs": [],
   "source": [
    "non_abstain_idx_train = np.where(non_abstain_train)[0] \n",
    "L_train_non_abstain = L_train[non_abstain_idx_train,:]\n",
    "n_lf = L_train_non_abstain.shape[1]"
   ]
  },
  {
   "cell_type": "code",
   "execution_count": 21,
   "metadata": {},
   "outputs": [],
   "source": [
    "n_abstain_to_add = np.logspace(start=1, stop=4.7, num=30, base=10, dtype=np.int, endpoint=True)\n",
    "n_abstain_to_add = np.concatenate([n_abstain_to_add, [0, n_abstain_train]])\n",
    "n_abstain_to_add.sort()"
   ]
  },
  {
   "cell_type": "code",
   "execution_count": 22,
   "metadata": {},
   "outputs": [
    {
     "data": {
      "text/plain": [
       "array([    0,    10,    13,    17,    24,    32,    43,    58,    78,\n",
       "         104,   140,   188,   253,   339,   455,   611,   819,  1099,\n",
       "        1475,  1979,  2655,  3562,  4778,  6410,  8599, 11536, 15475,\n",
       "       16520, 20760, 27850, 37360, 50118])"
      ]
     },
     "execution_count": 22,
     "metadata": {},
     "output_type": "execute_result"
    }
   ],
   "source": [
    "n_abstain_to_add"
   ]
  },
  {
   "cell_type": "code",
   "execution_count": 23,
   "metadata": {},
   "outputs": [
    {
     "name": "stderr",
     "output_type": "stream",
     "text": [
      "100%|██████████| 32/32 [02:06<00:00,  3.96s/it]\n"
     ]
    }
   ],
   "source": [
    "f1_abstain = []\n",
    "roc_abstain = []\n",
    "\n",
    "for n_abstain in tqdm(n_abstain_to_add):\n",
    "    \n",
    "    L_train_iter = np.append(L_train_non_abstain, -1*np.ones((n_abstain,n_lf)), axis=0)\n",
    "    \n",
    "    label_model_iter = LabelModel(cardinality=2, verbose=True)\n",
    "    label_model_iter.fit(L_train_iter, Y_dev, n_epochs=5000, log_freq=500, seed=12345)\n",
    "    \n",
    "    probs_dev = label_model_iter.predict_proba(L_dev)\n",
    "    preds_dev = probs_to_preds(probs_dev)\n",
    "    \n",
    "    f1 = metric_score(Y_dev, preds_dev, probs=probs_dev, metric='f1')\n",
    "    roc = metric_score(Y_dev, preds_dev, probs=probs_dev, metric='roc_auc')\n",
    "    \n",
    "    f1_abstain.append(f1)\n",
    "    roc_abstain.append(roc)  "
   ]
  },
  {
   "cell_type": "markdown",
   "metadata": {},
   "source": [
    "Display performances versus the number of all-LF-abstaining samples added to the training set"
   ]
  },
  {
   "cell_type": "code",
   "execution_count": 24,
   "metadata": {},
   "outputs": [
    {
     "data": {
      "text/plain": [
       "<matplotlib.legend.Legend at 0x7fda789adb00>"
      ]
     },
     "execution_count": 24,
     "metadata": {},
     "output_type": "execute_result"
    },
    {
     "data": {
      "image/png": "[encoded data removed]",
      "text/plain": [
       "<Figure size 864x576 with 1 Axes>"
      ]
     },
     "metadata": {
      "needs_background": "light"
     },
     "output_type": "display_data"
    }
   ],
   "source": [
    "plt.figure(figsize=(12, 8))\n",
    "plt.plot(n_abstain_to_add, np.vstack([f1_abstain,roc_abstain]).T, linewidth=2)\n",
    "plt.grid()\n",
    "plt.ylabel(\"Label Model Performances\", fontsize=18)\n",
    "plt.xlabel(\"number of all-LF-abstaining samples\", fontsize=18)\n",
    "plt.tick_params(labelsize=14)\n",
    "\n",
    "idx_full_train = np.where(np.array(n_abstain_to_add)==n_abstain_train)[0][0]\n",
    "plt.plot(\n",
    "    n_abstain_train, \n",
    "    np.vstack([f1_abstain[idx_full_train],roc_abstain[idx_full_train]]).T, \n",
    "    marker='*', color='red', markersize=10\n",
    ")\n",
    "plt.legend(['F1','ROC-AUC', 'Full training set'], fontsize=18)"
   ]
  },
  {
   "cell_type": "markdown",
   "metadata": {},
   "source": [
    "At inference, the all-LF-abstaining samples are giving no information (conditional probability cancels out in the model), and only the priors are used for prediction. Let's check this for random samples in the extreme label model with 50000 all-LF-abstaining samples: "
   ]
  },
  {
   "cell_type": "code",
   "execution_count": 45,
   "metadata": {},
   "outputs": [
    {
     "name": "stdout",
     "output_type": "stream",
     "text": [
      "Random all-LF-abstaining samples in the dev set:  1951\n",
      "LFs:  [-1 -1 -1 -1 -1 -1 -1 -1 -1]\n",
      "Class Probabilities: [0.9324084 0.0675916]\n",
      "Prediction:  0\n"
     ]
    }
   ],
   "source": [
    "abstain_dev = np.apply_along_axis(all_abstain, 1, L_dev)\n",
    "n_abstain_dev = np.count_nonzero(abstain_dev)\n",
    "\n",
    "idx_abstain_rel = random.randint(0, n_abstain_dev-1)\n",
    "idx_abstain = np.where(abstain_dev)[0][idx_abstain_rel]\n",
    "\n",
    "print(\"Random all-LF-abstaining samples in the dev set: \", idx_abstain)\n",
    "print(\"LFs: \", L_dev[idx_abstain,:])\n",
    "print(\"Class Probabilities:\", probs_dev[idx_abstain,:])\n",
    "print(\"Prediction: \", preds_dev[idx_abstain])"
   ]
  },
  {
   "cell_type": "markdown",
   "metadata": {},
   "source": [
    "### Train removing all-LF-abstaining samples with different n of epochs "
   ]
  },
  {
   "cell_type": "markdown",
   "metadata": {},
   "source": [
    "To be fair, the label models trained on smaller training sets actually need a smaller number of epoch, otherwise they'll overfit. Nevertheless the performance of the label model without all-LF-abstaining samples is inferior."
   ]
  },
  {
   "cell_type": "code",
   "execution_count": 79,
   "metadata": {},
   "outputs": [
    {
     "name": "stderr",
     "output_type": "stream",
     "text": [
      "100%|██████████| 50/50 [00:16<00:00,  3.07it/s]\n"
     ]
    }
   ],
   "source": [
    "f1_abstain = []\n",
    "roc_abstain = []\n",
    "n_epochs_to_train = np.logspace(start=1, stop=3.3, num=50, base=10, dtype=np.int, endpoint=True)\n",
    "\n",
    "for n_epochs in tqdm(n_epochs_to_train):\n",
    "    \n",
    "    label_model_iter = LabelModel(cardinality=2, verbose=True)\n",
    "    label_model_iter.fit(L_train_non_abstain, Y_dev, n_epochs=n_epochs, log_freq=100, seed=12345)\n",
    "    \n",
    "    probs_dev = label_model_iter.predict_proba(L_dev)\n",
    "    preds_dev = probs_to_preds(probs_dev)\n",
    "    \n",
    "    f1 = metric_score(Y_dev, preds_dev, probs=probs_dev, metric='f1')\n",
    "    roc = metric_score(Y_dev, preds_dev, probs=probs_dev, metric='roc_auc')\n",
    "    \n",
    "    f1_abstain.append(f1)\n",
    "    roc_abstain.append(roc) "
   ]
  },
  {
   "cell_type": "code",
   "execution_count": 76,
   "metadata": {},
   "outputs": [
    {
     "data": {
      "image/png": "[encoded data removed]",
      "text/plain": [
       "<Figure size 864x576 with 1 Axes>"
      ]
     },
     "metadata": {
      "needs_background": "light"
     },
     "output_type": "display_data"
    }
   ],
   "source": [
    "plt.figure(figsize=(12, 8))\n",
    "plt.plot(n_epochs_to_train, np.vstack([f1_abstain,roc_abstain]).T, linewidth=2)\n",
    "plt.legend(['F1','ROC-AUC'], fontsize=18)\n",
    "plt.grid()\n",
    "plt.ylabel(\"Label Model Performances\", fontsize=18)\n",
    "plt.xlabel(\"number of epochs\", fontsize=18)\n",
    "plt.tick_params(labelsize=14)"
   ]
  },
  {
   "cell_type": "markdown",
   "metadata": {},
   "source": [
    "### What the regular and reduced models look like"
   ]
  },
  {
   "cell_type": "markdown",
   "metadata": {},
   "source": [
    "Let's train the regular model on the whole training set"
   ]
  },
  {
   "cell_type": "code",
   "execution_count": 47,
   "metadata": {},
   "outputs": [],
   "source": [
    "label_model = LabelModel(cardinality=2, verbose=True)\n",
    "label_model.fit(L_train, Y_dev, n_epochs=5000, log_freq=100, seed=12345)"
   ]
  },
  {
   "cell_type": "code",
   "execution_count": 134,
   "metadata": {},
   "outputs": [
    {
     "name": "stdout",
     "output_type": "stream",
     "text": [
      "Label Model\n",
      "F1: 0.423\n",
      "ROC-AUC: 0.743\n"
     ]
    }
   ],
   "source": [
    "probs_dev = label_model.predict_proba(L_dev)\n",
    "preds_dev = probs_to_preds(probs_dev)\n",
    "print(\"Label Model\")\n",
    "print_performances(Y_dev, probs_dev, preds_dev)"
   ]
  },
  {
   "cell_type": "markdown",
   "metadata": {},
   "source": [
    "And now the reduced label model removing the all-LF-abstaining samples"
   ]
  },
  {
   "cell_type": "code",
   "execution_count": 113,
   "metadata": {},
   "outputs": [],
   "source": [
    "label_model_reduced = LabelModel(cardinality=2, verbose=True)\n",
    "label_model_reduced.fit(L_train_non_abstain, Y_dev, n_epochs=50, log_freq=100, seed=12345)"
   ]
  },
  {
   "cell_type": "code",
   "execution_count": 135,
   "metadata": {},
   "outputs": [
    {
     "name": "stdout",
     "output_type": "stream",
     "text": [
      "Reduced Label Model\n",
      "F1: 0.332\n",
      "ROC-AUC: 0.726\n"
     ]
    }
   ],
   "source": [
    "probs_dev_reduced = label_model_reduced.predict_proba(L_dev)\n",
    "preds_dev_reduced = probs_to_preds(probs_dev_reduced)\n",
    "print(\"Reduced Label Model\")\n",
    "print_performances(Y_dev, probs_dev_reduced, preds_dev_reduced)"
   ]
  },
  {
   "cell_type": "markdown",
   "metadata": {},
   "source": [
    "Let's look at the conditional probabilities learned for each LF and that is used for prediction (along with the prior probabilities).\n",
    "We can observe that for the regular model using all-LF-abstaining samples, the probability of ABSTAIN is much higher for all LFs, than in the reduced model. This means more uncertainty in the model, lowering the probability of predict any class, trusting more the priors only.\n",
    "\n",
    "For each LF we have three lines, representing:\n",
    "1. the ABSTAIN label Probability for the two classes: P(L=-1|Y=0), P(L=-1|Y=1)\n",
    "2. the NEGATIVE label Probability for the two classes: P(L=0|Y=0), P(L=0|Y=1)\n",
    "3. the POSITIVE label Probability for the two classes: P(L=1|Y=0), P(L=1|Y=1)\n"
   ]
  },
  {
   "cell_type": "code",
   "execution_count": 229,
   "metadata": {},
   "outputs": [],
   "source": [
    "def print_conditional_probs(label_model, lf_names):\n",
    "    np.set_printoptions('precision', 2, 'suppress', True)\n",
    "    cond_probs = label_model.get_conditional_probs()\n",
    "    cols = [\"P(L|Y=0)\", \"P(L|Y=1)\"]\n",
    "    idx = [\"ABSTAIN\", \"NEGATIVE\", \"POSITIVE\"]\n",
    "    for i in range(cond_probs.shape[0]):\n",
    "        print(lf_names[i])\n",
    "        df = pd.DataFrame(cond_probs[i,:,:], columns=cols, index=idx)\n",
    "        print(df)\n",
    "        print(\"\")"
   ]
  },
  {
   "cell_type": "markdown",
   "metadata": {},
   "source": [
    "Conditional Probabilities for the regular model:"
   ]
  },
  {
   "cell_type": "code",
   "execution_count": 231,
   "metadata": {},
   "outputs": [
    {
     "name": "stdout",
     "output_type": "stream",
     "text": [
      "lf_husband_wife\n",
      "          P(L|Y=0)  P(L|Y=1)\n",
      "ABSTAIN   0.952448   0.11374\n",
      "NEGATIVE  0.000010   0.00001\n",
      "POSITIVE  0.047542   0.88625\n",
      "\n",
      "lf_husband_wife_left_window\n",
      "          P(L|Y=0)  P(L|Y=1)\n",
      "ABSTAIN   0.990005  0.673467\n",
      "NEGATIVE  0.000010  0.000010\n",
      "POSITIVE  0.009985  0.326523\n",
      "\n",
      "lf_same_last_name\n",
      "          P(L|Y=0)  P(L|Y=1)\n",
      "ABSTAIN   0.966599  0.928895\n",
      "NEGATIVE  0.000010  0.000010\n",
      "POSITIVE  0.033391  0.071095\n",
      "\n",
      "lf_married\n",
      "          P(L|Y=0)  P(L|Y=1)\n",
      "ABSTAIN   0.984432  0.981276\n",
      "NEGATIVE  0.000010  0.000010\n",
      "POSITIVE  0.015558  0.018714\n",
      "\n",
      "lf_familial_relationship\n",
      "          P(L|Y=0)  P(L|Y=1)\n",
      "ABSTAIN   0.901186  0.843061\n",
      "NEGATIVE  0.098804  0.156929\n",
      "POSITIVE  0.000010  0.000010\n",
      "\n",
      "lf_family_left_window\n",
      "          P(L|Y=0)  P(L|Y=1)\n",
      "ABSTAIN   0.965697  0.942816\n",
      "NEGATIVE  0.034293  0.057174\n",
      "POSITIVE  0.000010  0.000010\n",
      "\n",
      "lf_other_relationship\n",
      "          P(L|Y=0)  P(L|Y=1)\n",
      "ABSTAIN   0.986027  0.994077\n",
      "NEGATIVE  0.013963  0.005913\n",
      "POSITIVE  0.000010  0.000010\n",
      "\n",
      "lf_distant_supervision\n",
      "          P(L|Y=0)  P(L|Y=1)\n",
      "ABSTAIN   0.999255  0.989894\n",
      "NEGATIVE  0.000010  0.000010\n",
      "POSITIVE  0.000735  0.010096\n",
      "\n",
      "lf_distant_supervision_last_names\n",
      "          P(L|Y=0)  P(L|Y=1)\n",
      "ABSTAIN   0.998827  0.987198\n",
      "NEGATIVE  0.000010  0.000010\n",
      "POSITIVE  0.001163  0.012792\n",
      "\n"
     ]
    }
   ],
   "source": [
    "print_conditional_probs(label_model, lf_names)"
   ]
  },
  {
   "cell_type": "markdown",
   "metadata": {},
   "source": [
    "Conditional Probabilities for the reduced model:"
   ]
  },
  {
   "cell_type": "code",
   "execution_count": 230,
   "metadata": {},
   "outputs": [
    {
     "name": "stdout",
     "output_type": "stream",
     "text": [
      "lf_husband_wife\n",
      "          P(L|Y=0)  P(L|Y=1)\n",
      "ABSTAIN   0.695506  0.078668\n",
      "NEGATIVE  0.000100  0.000100\n",
      "POSITIVE  0.304394  0.921232\n",
      "\n",
      "lf_husband_wife_left_window\n",
      "          P(L|Y=0)  P(L|Y=1)\n",
      "ABSTAIN   0.938146  0.126888\n",
      "NEGATIVE  0.000100  0.000100\n",
      "POSITIVE  0.061754  0.873012\n",
      "\n",
      "lf_same_last_name\n",
      "          P(L|Y=0)  P(L|Y=1)\n",
      "ABSTAIN   0.938356   0.16949\n",
      "NEGATIVE  0.000100   0.00010\n",
      "POSITIVE  0.061544   0.83041\n",
      "\n",
      "lf_married\n",
      "          P(L|Y=0)  P(L|Y=1)\n",
      "ABSTAIN   0.985567  0.501208\n",
      "NEGATIVE  0.000100  0.000100\n",
      "POSITIVE  0.014333  0.498692\n",
      "\n",
      "lf_familial_relationship\n",
      "          P(L|Y=0)  P(L|Y=1)\n",
      "ABSTAIN   0.597342    0.9998\n",
      "NEGATIVE  0.402558    0.0001\n",
      "POSITIVE  0.000100    0.0001\n",
      "\n",
      "lf_family_left_window\n",
      "          P(L|Y=0)  P(L|Y=1)\n",
      "ABSTAIN   0.846721    0.9998\n",
      "NEGATIVE  0.153179    0.0001\n",
      "POSITIVE  0.000100    0.0001\n",
      "\n",
      "lf_other_relationship\n",
      "          P(L|Y=0)  P(L|Y=1)\n",
      "ABSTAIN   0.955399  0.999156\n",
      "NEGATIVE  0.044501  0.000744\n",
      "POSITIVE  0.000100  0.000100\n",
      "\n",
      "lf_distant_supervision\n",
      "          P(L|Y=0)  P(L|Y=1)\n",
      "ABSTAIN   0.998519  0.953391\n",
      "NEGATIVE  0.000100  0.000100\n",
      "POSITIVE  0.001381  0.046509\n",
      "\n",
      "lf_distant_supervision_last_names\n",
      "          P(L|Y=0)  P(L|Y=1)\n",
      "ABSTAIN   0.997705  0.935644\n",
      "NEGATIVE  0.000100  0.000100\n",
      "POSITIVE  0.002195  0.064256\n",
      "\n"
     ]
    }
   ],
   "source": [
    "print_conditional_probs(label_model_reduced, lf_names)"
   ]
  },
  {
   "cell_type": "markdown",
   "metadata": {},
   "source": [
    "### Generalization:  Training the End Model and check where all LF abstain in the test set"
   ]
  },
  {
   "cell_type": "code",
   "execution_count": 62,
   "metadata": {},
   "outputs": [],
   "source": [
    "L_test = np.load(\"spouse_l_test.npy\")\n",
    "X_test = np.load(\"spouse_x_test.npy\")\n",
    "Y_test = np.load(\"spouse_y_test.npy\")\n",
    "probs_test = np.load(\"spouse_probs_test.npy\")\n",
    "preds_test = np.load(\"spouse_preds_test.npy\")"
   ]
  },
  {
   "cell_type": "code",
   "execution_count": 138,
   "metadata": {},
   "outputs": [
    {
     "name": "stdout",
     "output_type": "stream",
     "text": [
      "End Model\n",
      "F1: 0.467\n",
      "ROC-AUC: 0.751\n"
     ]
    }
   ],
   "source": [
    "print(\"End Model\")\n",
    "print_performances(Y_test, probs_test, preds_test)"
   ]
  },
  {
   "cell_type": "code",
   "execution_count": 226,
   "metadata": {},
   "outputs": [
    {
     "name": "stdout",
     "output_type": "stream",
     "text": [
      "There are 1951/2701 all-LF-abstaining samples in the test set\n",
      "\n",
      "The end model correctly predicts 1871/1951 samples where all LF abstain\n",
      "The end model correctly predicts 1/58 positive samples where all LF abstain\n",
      "\n",
      "End Model on all-LF-abstaining samples\n",
      "F1: 0.024\n",
      "ROC-AUC: 0.560\n",
      "\n",
      "End Model on non all-LF-abstaining samples\n",
      "F1: 0.544\n",
      "ROC-AUC: 0.744\n"
     ]
    }
   ],
   "source": [
    "abstain_test = np.apply_along_axis(all_abstain, 1, L_test)\n",
    "n_abstain_test = np.count_nonzero(abstain_test)\n",
    "n_test = Y_test.shape[0]\n",
    "print(f\"There are {n_abstain_test}/{n_test} all-LF-abstaining samples in the test set\\n\")\n",
    "\n",
    "X_test_abstain = X_test[abstain_test] \n",
    "X_test_non_abstain = X_test[~abstain_test]\n",
    "Y_test_abstain = Y_test[abstain_test] \n",
    "Y_test_non_abstain = Y_test[~abstain_test]\n",
    "probs_test_abstain = probs_test[abstain_test] \n",
    "probs_test_non_abstain = probs_test[~abstain_test]\n",
    "preds_test_abstain = preds_test[abstain_test] \n",
    "preds_test_non_abstain = preds_test[~abstain_test]\n",
    "\n",
    "n_abstain_correct = np.count_nonzero(Y_test_abstain==preds_test_abstain)\n",
    "print(f\"The end model correctly predicts {n_abstain_correct}/{n_abstain_test} samples where all LF abstain\")\n",
    "\n",
    "pos_idx = (Y_test_abstain==1)\n",
    "n_abstain_correct_pos = np.count_nonzero(Y_test_abstain[pos_idx]==preds_test_abstain[pos_idx])\n",
    "n_abstain_pos = np.count_nonzero(pos_idx)\n",
    "print(f\"The end model correctly predicts {n_abstain_correct_pos}/{n_abstain_pos} positive samples where all LF abstain\")\n",
    "\n",
    "print(\"\\nEnd Model on all-LF-abstaining samples\")\n",
    "print_performances(Y_test_abstain, probs_test_abstain, preds_test_abstain)\n",
    "\n",
    "print(\"\\nEnd Model on non all-LF-abstaining samples\")\n",
    "print_performances(Y_test_non_abstain, probs_test_non_abstain, preds_test_non_abstain)"
   ]
  },
  {
   "cell_type": "markdown",
   "metadata": {},
   "source": [
    "### Examples of samples where LF abstain and the end model predicted class"
   ]
  },
  {
   "cell_type": "code",
   "execution_count": 225,
   "metadata": {},
   "outputs": [
    {
     "name": "stdout",
     "output_type": "stream",
     "text": [
      "POSITIVE sentence\n",
      "Thanks for your reaction Don’t forget to share this with your friends! 0 0 0 0 0 0   1 Rob Dyrdek and Bryiana Noelle got married on Sept. 19, and much like their over-the-top romance, their wedding looked lavish — and gorgeous!\n",
      "predicted as NEGATIVE\n"
     ]
    }
   ],
   "source": [
    "abstain_idx = random.randint(0, n_abstain_pos-1)\n",
    "\n",
    "print(\"POSITIVE sentence\" if Y_test_abstain[pos_idx][abstain_idx]==1 else \"NEGATIVE sentence\")\n",
    "print(X_test_abstain[pos_idx][abstain_idx])\n",
    "print(\"predicted as POSITIVE\" if preds_test_abstain[pos_idx][abstain_idx]==1 else \"predicted as NEGATIVE\")"
   ]
  },
  {
   "cell_type": "markdown",
   "metadata": {},
   "source": [
    "## Summary\n",
    "* In this umbalanced problem, the prior probabilities estimated from the dev set are essential and count for the 75% good predictions.\n",
    "* The all-LF-abstaining samples in the training set are useful to learn a model that trust less the LFs and relies more on the prior probabilities.\n",
    "* Artificially adding all-LF-abstaining samples in the training set, learns a model that only relies on the priors (conditional probabilities for the LFs tend to zero for both classes).\n",
    "* Generalization of the end model is also bad for the positive samples"
   ]
  }
 ],
 "metadata": {
  "jupytext": {
   "cell_metadata_filter": "tags,-all"
  },
  "kernelspec": {
   "display_name": "ker_snorkel",
   "language": "python",
   "name": "ker_snorkel"
  },
  "language_info": {
   "codemirror_mode": {
    "name": "ipython",
    "version": 3
   },
   "file_extension": ".py",
   "mimetype": "text/x-python",
   "name": "python",
   "nbconvert_exporter": "python",
   "pygments_lexer": "ipython3",
   "version": "3.7.3"
  }
 },
 "nbformat": 4,
 "nbformat_minor": 2
}
